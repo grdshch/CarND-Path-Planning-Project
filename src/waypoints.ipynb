{
 "cells": [
  {
   "cell_type": "code",
   "execution_count": null,
   "metadata": {
    "collapsed": false
   },
   "outputs": [],
   "source": [
    "import csv\n",
    "wpx = []\n",
    "wpy = []\n",
    "wps = []\n",
    "wpdx = []\n",
    "wpdy = []\n",
    "with open('../data/highway_map.csv') as csvfile:\n",
    "    reader = csv.reader(csvfile, delimiter=' ')\n",
    "    for row in reader:\n",
    "        wpx.append(float(row[0]))\n",
    "        wpy.append(float(row[1]))\n",
    "        wps.append(float(row[2]))\n",
    "        wpdx.append(float(row[3]))\n",
    "        wpdy.append(float(row[4]))"
   ]
  },
  {
   "cell_type": "code",
   "execution_count": null,
   "metadata": {
    "collapsed": true
   },
   "outputs": [],
   "source": [
    "import matplotlib.pyplot as plt\n",
    "%matplotlib inline"
   ]
  },
  {
   "cell_type": "code",
   "execution_count": null,
   "metadata": {
    "collapsed": true
   },
   "outputs": [],
   "source": [
    "LIMIT = 50"
   ]
  },
  {
   "cell_type": "code",
   "execution_count": null,
   "metadata": {
    "collapsed": false
   },
   "outputs": [],
   "source": [
    "plt.plot(wpx[:LIMIT], wpy[:LIMIT])"
   ]
  },
  {
   "cell_type": "code",
   "execution_count": null,
   "metadata": {
    "collapsed": false
   },
   "outputs": [],
   "source": [
    "plt.plot(wps[:LIMIT])"
   ]
  },
  {
   "cell_type": "code",
   "execution_count": null,
   "metadata": {
    "collapsed": false
   },
   "outputs": [],
   "source": [
    "plt.plot(wpdx[:LIMIT], wpdy[:LIMIT])"
   ]
  },
  {
   "cell_type": "code",
   "execution_count": null,
   "metadata": {
    "collapsed": false
   },
   "outputs": [],
   "source": [
    "x, y, s, d = 909.48, 1128.67, 124.834, 6.16483"
   ]
  },
  {
   "cell_type": "code",
   "execution_count": null,
   "metadata": {
    "collapsed": true
   },
   "outputs": [],
   "source": [
    "import math\n",
    "def dis(x0, y0, x1, y1):\n",
    "    return math.sqrt((x0 - x1) ** 2 + (y0 - y1) ** 2)\n",
    "\n",
    "class Sim:\n",
    "    def __init__(self, x, y, s, d):\n",
    "        self.x = [x]\n",
    "        self.y = [y]\n",
    "        self.s = [s]\n",
    "        self.d = [d]\n",
    "        self.sd = []\n",
    "        self.sdd = []\n",
    "        self.sddd = []\n",
    "    def update(self, X, Y):\n",
    "        self.x.append(X[0])\n",
    "        self.y.append(Y[0])\n",
    "        d = dis(self.x[-1], self.y[-1], self.x[-2], self.y[-2])\n",
    "        self.s.append(self.s[-1] + d)\n",
    "        self.sd.append(d / 0.02)\n",
    "        if len(self.sd) > 1:\n",
    "            self.sdd.append((self.sd[-1] - self.sd[-2]) / 0.02)\n",
    "        if len(self.sdd) > 1:\n",
    "            self.sddd.append((self.sdd[-1] - self.sdd[-2]) / 0.02)\n",
    "    def draw(self):\n",
    "        plt.plot(wpx[:LIMIT], wpy[:LIMIT])\n",
    "        plt.plot(self.x, self.y, c='r')\n",
    "        \n",
    "\n"
   ]
  },
  {
   "cell_type": "code",
   "execution_count": null,
   "metadata": {
    "collapsed": false
   },
   "outputs": [],
   "source": [
    "x, y, s, d = 909.48, 1128.67, 124.834, 6.16483\n",
    "sim = Sim(x, y, s, d)\n",
    "#for i in range(1000):\n",
    "#    sim.update([x + i], [y + i])\n",
    "sim.draw()"
   ]
  },
  {
   "cell_type": "code",
   "execution_count": null,
   "metadata": {
    "collapsed": false
   },
   "outputs": [],
   "source": [
    "plt.plot(sim.sddd)"
   ]
  },
  {
   "cell_type": "code",
   "execution_count": null,
   "metadata": {
    "collapsed": false
   },
   "outputs": [],
   "source": [
    "for i, ws in enumerate(wps):\n",
    "    if ws >= s:\n",
    "        next_wps = i - 1\n",
    "        break\n",
    "X = wpx[next_wps: next_wps + 4]\n",
    "Y = wpy[next_wps: next_wps + 4]\n",
    "S = wps[next_wps: next_wps + 4]\n",
    "from scipy.interpolate import interp1d\n",
    "spx = interp1d(S, X, kind='cubic')\n",
    "spy = interp1d(S, Y, kind='cubic')\n",
    "print(X, Y)"
   ]
  },
  {
   "cell_type": "code",
   "execution_count": null,
   "metadata": {
    "collapsed": false
   },
   "outputs": [],
   "source": [
    "from scipy.interpolate import interp1d\n",
    "import numpy as np\n",
    "f = interp1d(X, Y)\n",
    "f2 = interp1d(X, Y, kind='cubic')"
   ]
  },
  {
   "cell_type": "code",
   "execution_count": null,
   "metadata": {
    "collapsed": false
   },
   "outputs": [],
   "source": [
    "xnew = np.linspace(X[0], X[-1], num=20, endpoint=True)"
   ]
  },
  {
   "cell_type": "code",
   "execution_count": null,
   "metadata": {
    "collapsed": false
   },
   "outputs": [],
   "source": [
    "plt.plot(X, Y, 'o', xnew, f(xnew), '-', xnew, f2(xnew), '--')\n",
    "plt.legend(['data', 'linear', 'cubic'], loc='best')"
   ]
  },
  {
   "cell_type": "code",
   "execution_count": null,
   "metadata": {
    "collapsed": false
   },
   "outputs": [],
   "source": [
    "x, y, s, d = 909.48, 1128.67, 124.834, 6.16483\n",
    "sim = Sim(x, y, s, d)\n",
    "\n",
    "#v = sim.sd[-1]\n",
    "#vd = sim.sdd[-1]\n",
    "v = 10\n",
    "print(len(wps))\n",
    "for j in range(200):\n",
    "    \n",
    "    #v = sim.sd[-1] if sim.sd else 0\n",
    "    #vd = sim.sdd[-1] if sim.sdd else 0\n",
    "    news = sim.s[-1]\n",
    "    dt = 0.02\n",
    "    \n",
    "    for i, ws in enumerate(wps):\n",
    "        if ws >= news:\n",
    "            next_wps = i - 1\n",
    "            break\n",
    "            \n",
    "    #print(next_wps)\n",
    "    X = [wpx[next_wps]] + [sim.x[-1]] + wpx[next_wps + 1: next_wps + 10]\n",
    "    Y = [wpy[next_wps]] + [sim.y[-1]] + wpy[next_wps + 1: next_wps + 10]\n",
    "    S = [wps[next_wps]] + [sim.s[-1]] + wps[next_wps + 1: next_wps + 10]\n",
    "    #print(X, Y, S)\n",
    "    spx = interp1d(S, X, kind='cubic')\n",
    "    spy = interp1d(S, Y, kind='cubic')\n",
    "    \n",
    "    X = []\n",
    "    Y = []\n",
    "    #print(v)\n",
    "    for i in range(50):\n",
    "        news += v * dt\n",
    "        #if v < 50 * 1608 / 3600:\n",
    "        #    v += 0.2\n",
    "        #print(news, spx(news), spy(news))\n",
    "        X.append(spx(news))\n",
    "        Y.append(spy(news))\n",
    "    sim.update(X, Y)\n",
    "    #print(j)\n",
    "sim.draw()"
   ]
  },
  {
   "cell_type": "code",
   "execution_count": null,
   "metadata": {
    "collapsed": false
   },
   "outputs": [],
   "source": [
    "#print(sim.sd)\n",
    "plt.plot(sim.sd, 'ro')\n",
    "#plt.plot(sim.sdd)\n",
    "#plt.plot(sim.sddd)"
   ]
  },
  {
   "cell_type": "code",
   "execution_count": null,
   "metadata": {
    "collapsed": false
   },
   "outputs": [],
   "source": [
    "X = wps[:10]\n",
    "Y = wpy[:10]\n",
    "spline = interp1d(X, Y, kind='cubic')\n",
    "x = np.linspace(X[0], X[-1])\n",
    "plt.plot(X, Y, 'o', x, spline(x), '-')"
   ]
  },
  {
   "cell_type": "code",
   "execution_count": null,
   "metadata": {
    "collapsed": false
   },
   "outputs": [],
   "source": [
    "for i in range(1, len(wps)):\n",
    "    print(wps[i] - wps[i - 1], dis(wpx[i - 1], wpy[i - 1], wpx[i], wpy[i]))"
   ]
  },
  {
   "cell_type": "code",
   "execution_count": null,
   "metadata": {
    "collapsed": true
   },
   "outputs": [],
   "source": []
  }
 ],
 "metadata": {
  "kernelspec": {
   "display_name": "Python 3",
   "language": "python",
   "name": "python3"
  },
  "language_info": {
   "codemirror_mode": {
    "name": "ipython",
    "version": 3
   },
   "file_extension": ".py",
   "mimetype": "text/x-python",
   "name": "python",
   "nbconvert_exporter": "python",
   "pygments_lexer": "ipython3",
   "version": "3.6.0"
  }
 },
 "nbformat": 4,
 "nbformat_minor": 2
}
